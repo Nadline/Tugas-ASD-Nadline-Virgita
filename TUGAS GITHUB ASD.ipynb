{
 "cells": [
  {
   "cell_type": "markdown",
   "id": "fb7aab75",
   "metadata": {},
   "source": [
    "# CHAPTER 01: INTRODUCTION TO ALGORITHMS"
   ]
  },
  {
   "cell_type": "markdown",
   "id": "41fdcad8",
   "metadata": {},
   "source": [
    "Chapter Overview :\n",
    "a. Menjadi pondasi untuk topik selanjutnya\n",
    "b. Menulis algoritma pertama yaitu Binary Seacrh\n",
    "c. Belajar running time dari suatu algoritma atau Big O Notation "
   ]
  },
  {
   "cell_type": "markdown",
   "id": "78586bf0",
   "metadata": {},
   "source": [
    "# 1.1 Binary Search"
   ]
  },
  {
   "cell_type": "markdown",
   "id": "854d3e0c",
   "metadata": {},
   "source": [
    "Kasus pencarian kata dapat dilakukan dengan menggunakan binary search. Binary Search merupakan suatu algoritma dimana inputnya amerupakan suatu list yang terdiri  dari elemen yang terurut. Ketika elemen yang kita cari berada dalam list yang terurut maka binary search akan mengembalikan posisinya, tetapi jika tidak berada dalam list binary search akan mengembalikan nilai null. "
   ]
  },
  {
   "cell_type": "markdown",
   "id": "f7f2a014",
   "metadata": {},
   "source": [
    "# 1.2 Simple Search"
   ]
  },
  {
   "cell_type": "markdown",
   "id": "b29a5703",
   "metadata": {},
   "source": [
    "Contoh Kasus: Ketika saya memikirkan satu angka antara 1 sampai 100. Kemudian kalian mencoba untuk menebak jumlah angka yang saya pikirkan dengan jumlah tebakan sesedikit munglkin. Setiap tebakan yang diberikan akan diberitahu apakah tebakan tersebut terlalu kecil, terlalu tinggi atau sudah tepat. "
   ]
  },
  {
   "cell_type": "markdown",
   "id": "bd1b6023",
   "metadata": {},
   "source": [
    "Contoh kalian menebak seperti ini: 1,2,3,4,....\n",
    "misalkan kalian menjawab 1 maka programnya akan membalas \"to low\" maka 1 tersebut dieliminasi, namun kita masih memiliki 99 kemungkinan angka lainnya. Selanjutnya ketika kalian menjawab 2 maka akan dibalas \"to low\" maka 2 pun jua dieliminasi begitu juga seterusnya."
   ]
  },
  {
   "cell_type": "markdown",
   "id": "d71c9437",
   "metadata": {},
   "source": [
    "Algoritma pencarian seperti ini dikenal dengan Algoritma Simpel Search. Pada simple search ini hanya mengeliminasi 1 angka saja. Contohnya dalam pikiran saya adalah angka 99 maka kalian membutuhkan 99 kali tebakan apabila menggunakan simple search. "
   ]
  },
  {
   "cell_type": "markdown",
   "id": "675f28dc",
   "metadata": {},
   "source": [
    "Maka Algoritma yang cocok digunakan untuk kasus diatas adalah Binary Search. Karena kita dapat mengeliminasi banyak angka dan dapat mempersingkat waktu. Sehingga pada tebakan terakhir kita dapat menemukan hasilnya tanpa harus menebak satu-satu. "
   ]
  },
  {
   "cell_type": "markdown",
   "id": "7abc8f0e",
   "metadata": {},
   "source": [
    "# A. Binary Search in Phyton "
   ]
  },
  {
   "cell_type": "markdown",
   "id": "bcefc8af",
   "metadata": {},
   "source": [
    "Code dalam phyton menggunakan array. Array merupakan tempat untuk menyimpan rangkaian elemen dalam deretan keranjang berurutan. \n",
    "Contohnya bucket diberi nomor dimulai dengan o: bucket pertama berada pada posisi #0, bucket kedua #1, bucket ketiga #2 dan seterusnya. Fungsi dalam binary search akan menerrima 2 parameter yaitu sorted array (sorted list) dan an item. Jika item ada dalam list, maka fungsi akan mengembalikan posisi yang ada dalam list.Tiap tahapan pencarian kita akan memantau posisi dari array. "
   ]
  },
  {
   "cell_type": "code",
   "execution_count": null,
   "id": "9564911d",
   "metadata": {},
   "outputs": [],
   "source": [
    "low = 0\n",
    "high = len(list)-1 "
   ]
  },
  {
   "cell_type": "markdown",
   "id": "f0c4923d",
   "metadata": {},
   "source": [
    "Indeks yang paling depan diberi nama low indeks dan yang paling belakang high indeks. Untuk posisi pertama kali yaitu low indeks adalah 0. Untuk high indeks yaitu len dari list kemudian diselisihkan dengan 1. len yang ada pada list ini akan mengembalikan ukuran arraynya. "
   ]
  },
  {
   "cell_type": "markdown",
   "id": "eac1dd10",
   "metadata": {},
   "source": [
    "Dalam setiap interaksinya periksa elemen yang ada pada posisi tengah :"
   ]
  },
  {
   "cell_type": "code",
   "execution_count": null,
   "id": "13152ac5",
   "metadata": {},
   "outputs": [],
   "source": [
    "mid = (low + high)/2\n",
    "guess = list[mid]"
   ]
  },
  {
   "cell_type": "markdown",
   "id": "e72e1900",
   "metadata": {},
   "source": [
    "Nilai mid akan secara otomatis dibulatkan kebawah oleh Phyton ketika penjumlahan bilangan (low + high) bukan bilangan bulat. "
   ]
  },
  {
   "cell_type": "markdown",
   "id": "b341fc8e",
   "metadata": {},
   "source": [
    "Jika guess lebih kecil dari item maka nilai dari low indeksnya perlu disesuaikan :"
   ]
  },
  {
   "cell_type": "code",
   "execution_count": null,
   "id": "662e4f9e",
   "metadata": {},
   "outputs": [],
   "source": [
    "if guess < item:\n",
    "    low = mid + 1"
   ]
  },
  {
   "cell_type": "markdown",
   "id": "0e943e2e",
   "metadata": {},
   "source": [
    "Begitupun sebaliknya jika guessnya terlalu tinggi maka lakukan hal yang sama dengan mengupdate high indeksnya. "
   ]
  },
  {
   "cell_type": "markdown",
   "id": "0ca7a3c2",
   "metadata": {},
   "source": [
    "# B. Implementasi Phyton Code "
   ]
  },
  {
   "cell_type": "code",
   "execution_count": null,
   "id": "0fb00802",
   "metadata": {},
   "outputs": [],
   "source": [
    "def binary_search(list, item): \n",
    "    low = 0\n",
    "    high = len(list)-1 \n",
    "    \n",
    "    while low <= high:\n",
    "        mid = (low + high) // 2\n",
    "        guess = list [mid]\n",
    "        if guess == item:\n",
    "            return mid \n",
    "        if guess > item: \n",
    "            high = mid + 1\n",
    "        else:\n",
    "            low = mid + 1\n",
    "    return None \n",
    "\n",
    "my_list = [1, 3, 5, 7, 9]\n",
    "print(binary_search(my_list, 3)) #Nilai yang dicari terdapat dalam list"
   ]
  },
  {
   "cell_type": "code",
   "execution_count": null,
   "id": "619e17a8",
   "metadata": {},
   "outputs": [],
   "source": [
    "print(binary_search(my_list, -1)) #Nilai yang dicari tidak terdapat dalam list "
   ]
  },
  {
   "cell_type": "markdown",
   "id": "2a5fd144",
   "metadata": {},
   "source": [
    "# 1.3 Running Time"
   ]
  },
  {
   "cell_type": "markdown",
   "id": "e0829119",
   "metadata": {},
   "source": [
    "Dalam running time hal pertama yang dilakukan adalah menggunakan simple search dan membutuhkan pengecekan satu persatu. Misalnya jika kita memiliki 100 elemen maka kita membutuhkan 100 kali pengecekan. Jumlah pengecekan maksimumnya akan sama dengan jumlah elemen yang ada dalam list ini merupakan istilah dari linear time. Binary Search akan menerapkan logarithmic time atau log time. "
   ]
  },
  {
   "cell_type": "markdown",
   "id": "a5b04e04",
   "metadata": {},
   "source": [
    "# A. Big O Notation"
   ]
  },
  {
   "cell_type": "markdown",
   "id": "6b9a853b",
   "metadata": {},
   "source": [
    "Big O Notation merupakan notasi khusus yang digunakan untuk mendeskripsikan seberapa cepat suatu algoritma. Sebagai contoh kita dihadapkan pada suatu list dengan jumlah elemen n. Simple Search butuh untuk melakukan pengecekan setiap elemennya, oleh karena itu ini akan membutuhkan sejumlah n operation. Penulisan Big O notationnya adalah O(n). Big O Notation tidak mengekspresikan kecepatan satuan algoritma dalam detik. Big O Notation meminta kita untuk membandingkan jumlah operasi, dimana Big O akan mengekspresikan bagaimana kecepatan suatu algoritma berkembang. "
   ]
  },
  {
   "cell_type": "markdown",
   "id": "96fa8cc6",
   "metadata": {},
   "source": [
    "Binary search membutuhkan sejumlah log n operasi untuk memeriksa list dengan ukuran n. Oleh karena itu running time untuk Binary Search ketika diekspresikan dengan Big O Notation adalah O(log n). "
   ]
  },
  {
   "cell_type": "markdown",
   "id": "b19d456d",
   "metadata": {},
   "source": [
    "Secara umum penulisan Big O Notation sebagai berikut: "
   ]
  },
  {
   "cell_type": "code",
   "execution_count": null,
   "id": "9931557b",
   "metadata": {},
   "outputs": [],
   "source": [
    "O(n) "
   ]
  },
  {
   "cell_type": "markdown",
   "id": "198ecce4",
   "metadata": {},
   "source": [
    "Terdapat O lalu diikuti dengan number of operationnya atau jumlah operasinya. "
   ]
  },
  {
   "cell_type": "markdown",
   "id": "1cfa8b04",
   "metadata": {},
   "source": [
    "Contoh Kasus :\n",
    "Seseorang bernama Bob yang diminta untuk membuat suatu algoritma yang akan dipakai oleh NASA. Algoritma ini akan digunakan saaat melakukan pendaratan dibulan. Dimana algoritma ini digunakan untuk membantu proses perhitungan terkait lokasi pendaratan. Dan untuk kasusnya Bob memiliki waktu 10 detik. "
   ]
  },
  {
   "cell_type": "markdown",
   "id": "86e2a3ea",
   "metadata": {},
   "source": [
    "Pada kasus ini Bob dihadapkan pada dua algoritma yaitu Simple Search dan Binary Search. Dimana algoritma yang dipilih oleh Bob harus tepat dan cepat. Seperti yang kita ketahui Binary Search lebih cepat, namun disisi lain Simple Search jauh lebih mundah untuk kita implementasikan. "
   ]
  },
  {
   "cell_type": "markdown",
   "id": "4bf991f6",
   "metadata": {},
   "source": [
    "Diasumsikan dalma melakukan pengecekan satu elemen dibutuhkan waktu 1 milisecond. kemudian Bob melakukan proses kalkulasi terhadap 100. Jika menggunakan simple search maka melakukan pengecekan selama 100 milisecond pada 100 elemen. Tapi jika Bobb menggunakan Binary Search maka dibutuhkan watu selama 7 milissecond (log2 100 is roughly 7)."
   ]
  },
  {
   "cell_type": "markdown",
   "id": "e1af045b",
   "metadata": {},
   "source": [
    "Secara realistis jumlah elemen yang perlu dicari berkisar 1 miliar elemen. Tapi dengan menggunakan Binary Search Bob akan memerlukan waktu hanya 30 milisecond (log2 1.000.000.000) = berkisar 30. Binary Search 15 kali lebih cepat dari Simple Search."
   ]
  },
  {
   "cell_type": "markdown",
   "id": "59e14a24",
   "metadata": {},
   "source": [
    "# B. Contoh Implementasi Code"
   ]
  },
  {
   "cell_type": "code",
   "execution_count": null,
   "id": "c3dcb488",
   "metadata": {},
   "outputs": [],
   "source": [
    "def binary_search(start, end, time_left):\n",
    "    while start <= end and time_left > 0:\n",
    "        mid = start + (end - start) // 2\n",
    "        if mid * mid == target:\n",
    "            return mid \n",
    "        elif mid * mid < target:\n",
    "            start = mid + 1\n",
    "        else:\n",
    "            end = mid - 1 \n",
    "        time_left -= 1\n",
    "    return -=  1\n",
    "\n",
    "target = 25\n",
    "strat_range = 0\n",
    "end_range = target\n",
    "time_remaining = 10 \n",
    "result = binary_search(start_range, end_range, time_remaining)\n",
    "print(\"Lokasi pendaratan:\", result)"
   ]
  }
 ],
 "metadata": {
  "kernelspec": {
   "display_name": "Python 3 (ipykernel)",
   "language": "python",
   "name": "python3"
  },
  "language_info": {
   "codemirror_mode": {
    "name": "ipython",
    "version": 3
   },
   "file_extension": ".py",
   "mimetype": "text/x-python",
   "name": "python",
   "nbconvert_exporter": "python",
   "pygments_lexer": "ipython3",
   "version": "3.11.5"
  }
 },
 "nbformat": 4,
 "nbformat_minor": 5
}
